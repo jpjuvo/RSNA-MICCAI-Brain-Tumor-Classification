{
 "cells": [
  {
   "cell_type": "code",
   "execution_count": 1,
   "id": "be098d55",
   "metadata": {},
   "outputs": [],
   "source": [
    "import glob\n",
    "import os\n",
    "import random\n",
    "import numpy as np\n",
    "import pandas as pd\n",
    "import matplotlib.pyplot as plt\n",
    "import cv2\n",
    "import math\n",
    "from tqdm.auto import tqdm\n",
    "from sklearn import linear_model\n",
    "import optuna\n",
    "import seaborn as sns"
   ]
  },
  {
   "cell_type": "code",
   "execution_count": 84,
   "id": "fedd502b",
   "metadata": {},
   "outputs": [],
   "source": [
    "FEAT_OOFS = [\n",
    "    {\n",
    "        'model' : 'feat_lasso', \n",
    "         'fn' : '../output/20210925_segmentation_feature_model_v3/feature_model_oofs_0.csv'\n",
    "    },\n",
    "    {\n",
    "        'model' : 'feat_linreg', \n",
    "        'fn' : '../output/20210925_segmentation_feature_model_v3/feature_model_oofs_1.csv'\n",
    "    },\n",
    "    {\n",
    "        'model' : 'feat_ridge',\n",
    "        'fn' : '../output/20210925_segmentation_feature_model_v3/feature_model_oofs_2.csv',\n",
    "    }\n",
    "]\n",
    "\n",
    "CNN_OOFS = [\n",
    "    {\n",
    "        'model' : 'resnet50_rocstar',\n",
    "        'fn' : '../output/resnet50_bs32_ep10_rocstar_lr0.0001_ps0.8_ranger_sz256/'\n",
    "    },\n",
    "    {\n",
    "        'model' : 'resnet50_bce',\n",
    "        'fn' : '../output/resnet50_bs32_ep10_bce_lr0.0001_ps0.8_ranger_sz256/'\n",
    "    },\n",
    "    {\n",
    "        'model' : 'densenet169_rocstar',\n",
    "        'fn' : '../output/densenet169_bs32_ep10_rocstar_lr0.0001_ps0.8_ranger_sz256/'\n",
    "    },\n",
    "    {\n",
    "        'model' : 'resnet101_rocstar',\n",
    "        'fn' : '../output/resnet101_bs32_ep20_rocstar_lr0.0001_ps0.8_ranger_sz256/'\n",
    "    },\n",
    "    {\n",
    "        'model' : 'efficientnetv2_l_rocstar',\n",
    "        'fn' : '../output/tf_efficientnetv2_l_bs32_ep10_rocstar_lr0.0001_ps0.8_ranger_sz256/'\n",
    "    },\n",
    "]"
   ]
  },
  {
   "cell_type": "code",
   "execution_count": 85,
   "id": "a5967852",
   "metadata": {},
   "outputs": [
    {
     "data": {
      "text/html": [
       "<div>\n",
       "<style scoped>\n",
       "    .dataframe tbody tr th:only-of-type {\n",
       "        vertical-align: middle;\n",
       "    }\n",
       "\n",
       "    .dataframe tbody tr th {\n",
       "        vertical-align: top;\n",
       "    }\n",
       "\n",
       "    .dataframe thead th {\n",
       "        text-align: right;\n",
       "    }\n",
       "</style>\n",
       "<table border=\"1\" class=\"dataframe\">\n",
       "  <thead>\n",
       "    <tr style=\"text-align: right;\">\n",
       "      <th></th>\n",
       "      <th>BraTS21ID</th>\n",
       "      <th>MGMT_value</th>\n",
       "      <th>fold</th>\n",
       "    </tr>\n",
       "  </thead>\n",
       "  <tbody>\n",
       "    <tr>\n",
       "      <th>0</th>\n",
       "      <td>0</td>\n",
       "      <td>1</td>\n",
       "      <td>2</td>\n",
       "    </tr>\n",
       "    <tr>\n",
       "      <th>1</th>\n",
       "      <td>2</td>\n",
       "      <td>1</td>\n",
       "      <td>2</td>\n",
       "    </tr>\n",
       "    <tr>\n",
       "      <th>2</th>\n",
       "      <td>3</td>\n",
       "      <td>0</td>\n",
       "      <td>1</td>\n",
       "    </tr>\n",
       "    <tr>\n",
       "      <th>3</th>\n",
       "      <td>5</td>\n",
       "      <td>1</td>\n",
       "      <td>2</td>\n",
       "    </tr>\n",
       "    <tr>\n",
       "      <th>4</th>\n",
       "      <td>6</td>\n",
       "      <td>1</td>\n",
       "      <td>0</td>\n",
       "    </tr>\n",
       "  </tbody>\n",
       "</table>\n",
       "</div>"
      ],
      "text/plain": [
       "   BraTS21ID  MGMT_value  fold\n",
       "0          0           1     2\n",
       "1          2           1     2\n",
       "2          3           0     1\n",
       "3          5           1     2\n",
       "4          6           1     0"
      ]
     },
     "execution_count": 85,
     "metadata": {},
     "output_type": "execute_result"
    }
   ],
   "source": [
    "df = pd.read_csv('../output/20210925_segmentation_feature_model_v3/feature_model_oofs_0.csv')[\n",
    "    ['BraTS21ID','MGMT_value','fold']]\n",
    "df.head()"
   ]
  },
  {
   "cell_type": "code",
   "execution_count": 86,
   "id": "4e9ae3d5",
   "metadata": {},
   "outputs": [],
   "source": [
    "def read_feat_oof(fn):\n",
    "    return pd.read_csv(fn).sort_values('BraTS21ID')['oof_pred'].values\n",
    "\n",
    "def read_cnn_oof(dir_path):\n",
    "    oof_fns = [os.path.join(dir_path, f'fold-{i}', 'oof.csv') for i in range(5)]\n",
    "    dfs = []\n",
    "    for fn in oof_fns:\n",
    "        dfs.append(pd.read_csv(fn))\n",
    "    df = pd.concat(dfs)\n",
    "    return df.sort_values('BraTS21ID')['pred_mgmt_tta'].values\n",
    "\n",
    "def normalize_pred_distribution(preds, min_percentile=10, max_percentile=90):\n",
    "    \"\"\" Clips min and max percentiles and Z-score normalizes \"\"\"\n",
    "    min_range = np.percentile(preds, min_percentile)\n",
    "    max_range = np.percentile(preds, max_percentile)\n",
    "    norm_preds = np.clip(preds, min_range, max_range)\n",
    "    pred_std = np.std(norm_preds)\n",
    "    pred_mean = np.mean(norm_preds)\n",
    "    norm_preds = (norm_preds - pred_mean) / (pred_std + 1e-6)\n",
    "    return norm_preds\n",
    "\n",
    "def rescale_pred_distribution(preds):\n",
    "    \"\"\" Rescales pred distribution to 0-1 range. Doesn't affect AUC \"\"\"\n",
    "    return (preds - np.min(preds)) / (np.max(preds) - np.min(preds) + 1e-6)"
   ]
  },
  {
   "cell_type": "code",
   "execution_count": 87,
   "id": "225fbda3",
   "metadata": {},
   "outputs": [
    {
     "data": {
      "text/html": [
       "<div>\n",
       "<style scoped>\n",
       "    .dataframe tbody tr th:only-of-type {\n",
       "        vertical-align: middle;\n",
       "    }\n",
       "\n",
       "    .dataframe tbody tr th {\n",
       "        vertical-align: top;\n",
       "    }\n",
       "\n",
       "    .dataframe thead th {\n",
       "        text-align: right;\n",
       "    }\n",
       "</style>\n",
       "<table border=\"1\" class=\"dataframe\">\n",
       "  <thead>\n",
       "    <tr style=\"text-align: right;\">\n",
       "      <th></th>\n",
       "      <th>BraTS21ID</th>\n",
       "      <th>MGMT_value</th>\n",
       "      <th>fold</th>\n",
       "      <th>feat_lasso</th>\n",
       "      <th>feat_linreg</th>\n",
       "      <th>feat_ridge</th>\n",
       "      <th>resnet50_rocstar</th>\n",
       "      <th>resnet50_bce</th>\n",
       "      <th>densenet169_rocstar</th>\n",
       "      <th>resnet101_rocstar</th>\n",
       "      <th>efficientnetv2_l_rocstar</th>\n",
       "    </tr>\n",
       "  </thead>\n",
       "  <tbody>\n",
       "    <tr>\n",
       "      <th>0</th>\n",
       "      <td>0</td>\n",
       "      <td>1</td>\n",
       "      <td>2</td>\n",
       "      <td>0.357616</td>\n",
       "      <td>0.998937</td>\n",
       "      <td>0.527852</td>\n",
       "      <td>0.995366</td>\n",
       "      <td>0.918893</td>\n",
       "      <td>0.352219</td>\n",
       "      <td>0.944861</td>\n",
       "      <td>0.968443</td>\n",
       "    </tr>\n",
       "    <tr>\n",
       "      <th>1</th>\n",
       "      <td>2</td>\n",
       "      <td>1</td>\n",
       "      <td>2</td>\n",
       "      <td>0.619181</td>\n",
       "      <td>0.415633</td>\n",
       "      <td>0.873287</td>\n",
       "      <td>0.962248</td>\n",
       "      <td>0.364326</td>\n",
       "      <td>0.507380</td>\n",
       "      <td>0.939596</td>\n",
       "      <td>0.400794</td>\n",
       "    </tr>\n",
       "    <tr>\n",
       "      <th>2</th>\n",
       "      <td>3</td>\n",
       "      <td>0</td>\n",
       "      <td>1</td>\n",
       "      <td>0.946379</td>\n",
       "      <td>0.906096</td>\n",
       "      <td>1.000000</td>\n",
       "      <td>1.000000</td>\n",
       "      <td>0.294317</td>\n",
       "      <td>1.000000</td>\n",
       "      <td>0.420845</td>\n",
       "      <td>0.791184</td>\n",
       "    </tr>\n",
       "    <tr>\n",
       "      <th>3</th>\n",
       "      <td>5</td>\n",
       "      <td>1</td>\n",
       "      <td>2</td>\n",
       "      <td>0.747333</td>\n",
       "      <td>1.000000</td>\n",
       "      <td>1.000000</td>\n",
       "      <td>0.893415</td>\n",
       "      <td>0.697545</td>\n",
       "      <td>0.308397</td>\n",
       "      <td>0.949068</td>\n",
       "      <td>0.510978</td>\n",
       "    </tr>\n",
       "    <tr>\n",
       "      <th>4</th>\n",
       "      <td>6</td>\n",
       "      <td>1</td>\n",
       "      <td>0</td>\n",
       "      <td>0.732657</td>\n",
       "      <td>0.627525</td>\n",
       "      <td>0.526653</td>\n",
       "      <td>0.838764</td>\n",
       "      <td>1.000000</td>\n",
       "      <td>0.691758</td>\n",
       "      <td>1.000000</td>\n",
       "      <td>0.258448</td>\n",
       "    </tr>\n",
       "  </tbody>\n",
       "</table>\n",
       "</div>"
      ],
      "text/plain": [
       "   BraTS21ID  MGMT_value  fold  feat_lasso  feat_linreg  feat_ridge  \\\n",
       "0          0           1     2    0.357616     0.998937    0.527852   \n",
       "1          2           1     2    0.619181     0.415633    0.873287   \n",
       "2          3           0     1    0.946379     0.906096    1.000000   \n",
       "3          5           1     2    0.747333     1.000000    1.000000   \n",
       "4          6           1     0    0.732657     0.627525    0.526653   \n",
       "\n",
       "   resnet50_rocstar  resnet50_bce  densenet169_rocstar  resnet101_rocstar  \\\n",
       "0          0.995366      0.918893             0.352219           0.944861   \n",
       "1          0.962248      0.364326             0.507380           0.939596   \n",
       "2          1.000000      0.294317             1.000000           0.420845   \n",
       "3          0.893415      0.697545             0.308397           0.949068   \n",
       "4          0.838764      1.000000             0.691758           1.000000   \n",
       "\n",
       "   efficientnetv2_l_rocstar  \n",
       "0                  0.968443  \n",
       "1                  0.400794  \n",
       "2                  0.791184  \n",
       "3                  0.510978  \n",
       "4                  0.258448  "
      ]
     },
     "execution_count": 87,
     "metadata": {},
     "output_type": "execute_result"
    }
   ],
   "source": [
    "for d in FEAT_OOFS:\n",
    "    df[d['model']] = read_feat_oof(d['fn'])\n",
    "for d in CNN_OOFS:\n",
    "    df[d['model']] = read_cnn_oof(d['fn'])\n",
    "    \n",
    "df_norm = df.copy()\n",
    "for feat in df.columns.to_list()[3:]:\n",
    "    df_norm[feat] = rescale_pred_distribution(\n",
    "        normalize_pred_distribution(df_norm[feat].values)\n",
    "    )\n",
    "    \n",
    "df_norm.head()"
   ]
  },
  {
   "cell_type": "code",
   "execution_count": 88,
   "id": "01909d0b",
   "metadata": {},
   "outputs": [],
   "source": [
    "df_raw = df.copy()"
   ]
  },
  {
   "cell_type": "code",
   "execution_count": 89,
   "id": "3d764319",
   "metadata": {},
   "outputs": [
    {
     "data": {
      "image/png": "[encoded data removed]",
      "text/plain": [
       "<Figure size 500x500 with 2 Axes>"
      ]
     },
     "metadata": {},
     "output_type": "display_data"
    }
   ],
   "source": [
    "all_feat_names = df_norm.columns.to_list()[3:]\n",
    "corr = df_norm[['MGMT_value'] + all_feat_names].corr()\n",
    "\n",
    "# Generate a mask for the upper triangle\n",
    "mask = np.triu(np.ones_like(corr, dtype=bool))\n",
    "plt.close('all')\n",
    "f, ax = plt.subplots(figsize=(5, 5))\n",
    "cmap = sns.diverging_palette(230, 20, as_cmap=True)\n",
    "sns.heatmap(corr, mask=mask, cmap=cmap, vmax=.3, center=0,\n",
    "            square=True, linewidths=.5, cbar_kws={\"shrink\": .5})\n",
    "plt.title('OOF pred correlations')\n",
    "plt.show()"
   ]
  },
  {
   "cell_type": "code",
   "execution_count": 90,
   "id": "28fb8423",
   "metadata": {},
   "outputs": [
    {
     "data": {
      "text/plain": [
       "resnet50_bce                0.145234\n",
       "resnet50_rocstar            0.152105\n",
       "densenet169_rocstar         0.165600\n",
       "resnet101_rocstar           0.171292\n",
       "efficientnetv2_l_rocstar    0.182996\n",
       "feat_lasso                  0.224959\n",
       "feat_ridge                  0.244074\n",
       "feat_linreg                 0.255978\n",
       "MGMT_value                  1.000000\n",
       "Name: MGMT_value, dtype: float64"
      ]
     },
     "execution_count": 90,
     "metadata": {},
     "output_type": "execute_result"
    }
   ],
   "source": [
    "mgmt_corr_sorted = corr['MGMT_value'].sort_values()\n",
    "mgmt_corr_sorted "
   ]
  },
  {
   "cell_type": "markdown",
   "id": "a4a200aa",
   "metadata": {},
   "source": [
    "## Average"
   ]
  },
  {
   "cell_type": "code",
   "execution_count": 91,
   "id": "2d9f0360",
   "metadata": {},
   "outputs": [],
   "source": [
    "from sklearn.metrics import accuracy_score, roc_auc_score\n",
    "from sklearn.preprocessing import StandardScaler"
   ]
  },
  {
   "cell_type": "code",
   "execution_count": 92,
   "id": "f43aad6d",
   "metadata": {},
   "outputs": [],
   "source": [
    "oof_preds = np.mean(df_norm[all_feat_names].to_numpy(),1)\n",
    "oof_gts = df_norm['MGMT_value']"
   ]
  },
  {
   "cell_type": "code",
   "execution_count": 93,
   "id": "9b6254ae",
   "metadata": {},
   "outputs": [
    {
     "name": "stdout",
     "output_type": "stream",
     "text": [
      "acc 0.5961871750433275, auc 0.6561221050604266\n"
     ]
    },
    {
     "data": {
      "image/png": "[encoded data removed]",
      "text/plain": [
       "<Figure size 640x480 with 1 Axes>"
      ]
     },
     "metadata": {},
     "output_type": "display_data"
    }
   ],
   "source": [
    "oof_acc = accuracy_score((np.array(oof_gts) > 0.5).flatten(), (np.array(oof_preds) > 0.5).flatten())\n",
    "oof_auc = roc_auc_score(np.array(oof_gts).flatten().astype(np.float32), np.array(oof_preds).flatten())\n",
    "print(f'acc {oof_acc}, auc {oof_auc}')\n",
    "\n",
    "plt.close('all')\n",
    "df_plot = pd.DataFrame({'Pred-MGMT': oof_preds, 'GT-MGMT': oof_gts})\n",
    "sns.histplot(x='Pred-MGMT', hue='GT-MGMT', data=df_plot)\n",
    "plt.title(f'Average of all models # CV AUC = {oof_auc:.3f}, Acc. = {oof_acc:.3f}')\n",
    "plt.show()"
   ]
  },
  {
   "cell_type": "code",
   "execution_count": 104,
   "id": "08b3be2c",
   "metadata": {},
   "outputs": [
    {
     "name": "stdout",
     "output_type": "stream",
     "text": [
      "acc 0.6187175043327556, auc 0.6623332851846502\n"
     ]
    },
    {
     "data": {
      "image/png": "[encoded data removed]",
      "text/plain": [
       "<Figure size 640x480 with 1 Axes>"
      ]
     },
     "metadata": {},
     "output_type": "display_data"
    }
   ],
   "source": [
    "oof_preds_selected = np.mean(df_norm[['feat_lasso','feat_ridge','feat_linreg','efficientnetv2_l_rocstar']].to_numpy(),1)\n",
    "oof_acc = accuracy_score((np.array(oof_gts) > 0.5).flatten(), (np.array(oof_preds_selected) > 0.5).flatten())\n",
    "oof_auc = roc_auc_score(np.array(oof_gts).flatten().astype(np.float32), np.array(oof_preds_selected).flatten())\n",
    "print(f'acc {oof_acc}, auc {oof_auc}')\n",
    "\n",
    "plt.close('all')\n",
    "df_plot = pd.DataFrame({'Pred-MGMT': oof_preds_selected, 'GT-MGMT': oof_gts})\n",
    "sns.histplot(x='Pred-MGMT', hue='GT-MGMT', data=df_plot)\n",
    "plt.title(f'Average of all models # CV AUC = {oof_auc:.3f}, Acc. = {oof_acc:.3f}')\n",
    "plt.show()"
   ]
  },
  {
   "cell_type": "markdown",
   "id": "fb4fb5b7",
   "metadata": {},
   "source": [
    "## 2nd level models"
   ]
  },
  {
   "cell_type": "code",
   "execution_count": 94,
   "id": "0ff0a640",
   "metadata": {},
   "outputs": [],
   "source": [
    "import xgboost as xgb\n",
    "def get_data(fold, features):\n",
    "    df = df_norm.dropna(inplace=False)\n",
    "    scaler = StandardScaler()\n",
    "    \n",
    "    df_train = df[df.fold != fold]\n",
    "    df_val = df[df.fold == fold]\n",
    "    if len(df_val) == 0:\n",
    "        df_val = df[df.fold == 0]\n",
    "    \n",
    "    # shuffle train\n",
    "    df_train = df_train.sample(frac=1)\n",
    "    \n",
    "    y_train = df_train.MGMT_value.to_numpy().reshape((-1,1)).astype(np.float32)\n",
    "    y_val = df_val.MGMT_value.to_numpy().reshape((-1,1)).astype(np.float32)\n",
    "    \n",
    "    X_train = df_train[features].to_numpy().astype(np.float32)\n",
    "    X_val = df_val[features].to_numpy().astype(np.float32)\n",
    "    \n",
    "    scaler.fit(X_train)\n",
    "    X_train = scaler.transform(X_train)\n",
    "    X_val = scaler.transform(X_val)\n",
    "    \n",
    "    return X_train, y_train, X_val, y_val, scaler, (df_train.index.values).flatten(), (df_val.index.values).flatten()\n",
    "\n",
    "def measure_cv_score(parameters, verbose=False, train_one_model=False, plot=False, return_oof_preds=False):\n",
    "    \n",
    "    val_preds = []\n",
    "    val_gts = []\n",
    "    val_aucs = []\n",
    "    val_accs = []\n",
    "    val_index_values = []\n",
    "    \n",
    "    for fold in range(5):\n",
    "        \n",
    "        if train_one_model: fold = -1\n",
    "        \n",
    "        X_train, y_train, X_val, y_val, scaler, train_index, val_index = get_data(fold, features=parameters['features'])\n",
    "        val_index_values = val_index_values + list(val_index)\n",
    "        \n",
    "        if parameters['model_type'] == 'xgb':\n",
    "            model = xgb.XGBRegressor(\n",
    "                    n_estimators=parameters['n_estimators'], \n",
    "                    max_depth=parameters['max_depth'], \n",
    "                    eta=parameters['eta'],\n",
    "                    subsample=parameters['subsample'], \n",
    "                    colsample_bytree=parameters['colsample_bytree'],\n",
    "                    gamma=parameters['gamma']\n",
    "                )\n",
    "        elif parameters['model_type'] == 'linreg':\n",
    "            model = linear_model.LinearRegression()\n",
    "        elif parameters['model_type'] == 'ridge':\n",
    "            model = linear_model.Ridge(parameters['alpha'])\n",
    "        elif parameters['model_type'] == 'bayesian':\n",
    "            model = linear_model.BayesianRidge(\n",
    "                n_iter = parameters['n_iter'],\n",
    "                lambda_1 = parameters['lambda_1'],\n",
    "                lambda_2 = parameters['lambda_2'],\n",
    "                alpha_1 = parameters['alpha_1'],\n",
    "                alpha_2 = parameters['alpha_2'],\n",
    "            )\n",
    "        elif parameters['model_type'] == 'logreg':\n",
    "            model = linear_model.LogisticRegression()\n",
    "        elif parameters['model_type'] == 'lassolarsic':\n",
    "            model = linear_model.LassoLarsIC(\n",
    "                max_iter = parameters['max_iter'],\n",
    "                eps = parameters['eps']\n",
    "            )\n",
    "        elif parameters['model_type'] == 'perceptron':\n",
    "            model = linear_model.Perceptron(\n",
    "            )\n",
    "        else:\n",
    "            raise NotImplementedError\n",
    "        \n",
    "        model.fit(X_train, y_train.ravel())\n",
    "        \n",
    "        if train_one_model:\n",
    "            return model, scaler\n",
    "        \n",
    "        val_pred = model.predict(X_val)\n",
    "        val_preds += list(val_pred)\n",
    "        val_gts += list(y_val)\n",
    "        val_aucs.append(roc_auc_score(np.array(y_val).flatten().astype(np.float32), np.array(val_pred).flatten()))\n",
    "        val_accs.append(accuracy_score((np.array(y_val) > 0.5).flatten(), (np.array(val_pred) > 0.5).flatten()))\n",
    "    \n",
    "    if return_oof_preds:\n",
    "        return np.array(val_preds).flatten(), np.array(val_gts).flatten(), val_index_values\n",
    "    \n",
    "    oof_acc = accuracy_score((np.array(val_gts) > 0.5).flatten(), (np.array(val_preds) > 0.5).flatten())\n",
    "    oof_auc = roc_auc_score(np.array(val_gts).flatten().astype(np.float32), np.array(val_preds).flatten())\n",
    "    auc_std = np.std(np.array(val_aucs))\n",
    "    \n",
    "    if plot:\n",
    "        df_plot = pd.DataFrame({'Pred-MGMT': np.array(val_preds).flatten(), 'GT-MGMT': np.array(val_gts).flatten()})\n",
    "        sns.histplot(x='Pred-MGMT', hue='GT-MGMT', data=df_plot)\n",
    "        plt.title(f'{parameters[\"model_type\"]} # CV AUC = {oof_auc:.3f} (std {auc_std:.3f}), Acc. = {oof_acc:.3f}')\n",
    "        plt.show()\n",
    "    \n",
    "    if verbose:\n",
    "        print(f'CV AUC = {oof_auc} (std {auc_std}), Acc. = {oof_acc}, aucs: {val_aucs}, accs: {val_accs}')\n",
    "    \n",
    "    # optimize lower limit of the (2x std range around mean)\n",
    "    # This way, we choose the model which ranks well and performs ~equally well on all folds\n",
    "    return float(oof_auc) - auc_std"
   ]
  },
  {
   "cell_type": "code",
   "execution_count": 95,
   "id": "8f53f4bb",
   "metadata": {},
   "outputs": [
    {
     "name": "stdout",
     "output_type": "stream",
     "text": [
      "CV AUC = 0.6567239635995956 (std 0.016247592949047505), Acc. = 0.5996533795493935, aucs: [0.6404692082111437, 0.6554252199413491, 0.6679782082324456, 0.6796969696969697, 0.6366771159874609], accs: [0.5641025641025641, 0.6068376068376068, 0.6608695652173913, 0.6173913043478261, 0.5486725663716814]\n"
     ]
    },
    {
     "data": {
      "text/plain": [
       "0.6404763706505481"
      ]
     },
     "execution_count": 95,
     "metadata": {},
     "output_type": "execute_result"
    }
   ],
   "source": [
    "default_parameters = {\n",
    "    'model_type': 'linreg',\n",
    "    'n_estimators': 100,\n",
    "    'max_depth' : 3,\n",
    "    'eta': 0.1,\n",
    "    'subsample': 0.7,\n",
    "    'colsample_bytree' : 0.8,\n",
    "    'gamma' : 1.0,\n",
    "    'alpha' : 1.0,\n",
    "    'n_iter':300,\n",
    "    'lambda_1': 1e-6, # bayesian\n",
    "    'lambda_2':1e-6, # bayesian\n",
    "    'alpha_1': 1e-6, # bayesian\n",
    "    'alpha_2': 1e-6, # bayesian\n",
    "    'max_iter': 3, #lasso\n",
    "    'eps': 1e-6, #lasso\n",
    "    'features' : all_feat_names\n",
    "}\n",
    "measure_cv_score(default_parameters, verbose=True)"
   ]
  },
  {
   "cell_type": "code",
   "execution_count": 101,
   "id": "b0306195",
   "metadata": {},
   "outputs": [
    {
     "name": "stderr",
     "output_type": "stream",
     "text": [
      "\u001b[32m[I 2021-10-07 21:08:14,414]\u001b[0m A new study created in memory with name: no-name-c2d87aba-cb1a-4541-b488-f59298802bec\u001b[0m\n",
      "/home/joni/miniconda3/envs/brainclf/lib/python3.8/site-packages/optuna/progress_bar.py:47: ExperimentalWarning: Progress bar is experimental (supported from v1.2.0). The interface can change in the future.\n",
      "  self._init_valid()\n"
     ]
    },
    {
     "data": {
      "application/vnd.jupyter.widget-view+json": {
       "model_id": "49b482def6f64b25897e854283328d80",
       "version_major": 2,
       "version_minor": 0
      },
      "text/plain": [
       "  0%|          | 0/20 [00:00<?, ?it/s]"
      ]
     },
     "metadata": {},
     "output_type": "display_data"
    },
    {
     "name": "stdout",
     "output_type": "stream",
     "text": [
      "\u001b[32m[I 2021-10-07 21:08:14,480]\u001b[0m Trial 0 finished with value: 0.4437007008916334 and parameters: {'feat_lasso': 0, 'feat_linreg': 0, 'feat_ridge': 0, 'resnet50_rocstar': 1, 'resnet50_bce': 1, 'densenet169_rocstar': 1, 'resnet101_rocstar': 1, 'efficientnetv2_l_rocstar': 0}. Best is trial 0 with value: 0.4437007008916334.\u001b[0m\n",
      "\u001b[32m[I 2021-10-07 21:08:14,512]\u001b[0m Trial 1 finished with value: 0.3676899279334441 and parameters: {'feat_lasso': 1, 'feat_linreg': 0, 'feat_ridge': 1, 'resnet50_rocstar': 0, 'resnet50_bce': 0, 'densenet169_rocstar': 0, 'resnet101_rocstar': 1, 'efficientnetv2_l_rocstar': 0}. Best is trial 1 with value: 0.3676899279334441.\u001b[0m\n",
      "\u001b[32m[I 2021-10-07 21:08:14,554]\u001b[0m Trial 2 finished with value: 0.3596247295017474 and parameters: {'feat_lasso': 1, 'feat_linreg': 1, 'feat_ridge': 1, 'resnet50_rocstar': 0, 'resnet50_bce': 1, 'densenet169_rocstar': 1, 'resnet101_rocstar': 0, 'efficientnetv2_l_rocstar': 1}. Best is trial 2 with value: 0.3596247295017474.\u001b[0m\n",
      "\u001b[32m[I 2021-10-07 21:08:14,595]\u001b[0m Trial 3 finished with value: 0.3711252581179054 and parameters: {'feat_lasso': 0, 'feat_linreg': 0, 'feat_ridge': 1, 'resnet50_rocstar': 1, 'resnet50_bce': 0, 'densenet169_rocstar': 1, 'resnet101_rocstar': 1, 'efficientnetv2_l_rocstar': 0}. Best is trial 2 with value: 0.3596247295017474.\u001b[0m\n",
      "\u001b[32m[I 2021-10-07 21:08:14,625]\u001b[0m Trial 4 finished with value: 0.3655178830632324 and parameters: {'feat_lasso': 0, 'feat_linreg': 1, 'feat_ridge': 0, 'resnet50_rocstar': 1, 'resnet50_bce': 1, 'densenet169_rocstar': 0, 'resnet101_rocstar': 1, 'efficientnetv2_l_rocstar': 1}. Best is trial 2 with value: 0.3596247295017474.\u001b[0m\n",
      "\u001b[32m[I 2021-10-07 21:08:14,659]\u001b[0m Trial 5 finished with value: 0.363534527161818 and parameters: {'feat_lasso': 1, 'feat_linreg': 1, 'feat_ridge': 1, 'resnet50_rocstar': 1, 'resnet50_bce': 0, 'densenet169_rocstar': 1, 'resnet101_rocstar': 0, 'efficientnetv2_l_rocstar': 0}. Best is trial 2 with value: 0.3596247295017474.\u001b[0m\n",
      "\u001b[32m[I 2021-10-07 21:08:14,698]\u001b[0m Trial 6 finished with value: 0.3612417074170443 and parameters: {'feat_lasso': 1, 'feat_linreg': 1, 'feat_ridge': 1, 'resnet50_rocstar': 1, 'resnet50_bce': 1, 'densenet169_rocstar': 0, 'resnet101_rocstar': 1, 'efficientnetv2_l_rocstar': 1}. Best is trial 2 with value: 0.3596247295017474.\u001b[0m\n",
      "\u001b[32m[I 2021-10-07 21:08:14,728]\u001b[0m Trial 7 finished with value: 0.3913308417958906 and parameters: {'feat_lasso': 1, 'feat_linreg': 0, 'feat_ridge': 0, 'resnet50_rocstar': 0, 'resnet50_bce': 0, 'densenet169_rocstar': 0, 'resnet101_rocstar': 0, 'efficientnetv2_l_rocstar': 0}. Best is trial 2 with value: 0.3596247295017474.\u001b[0m\n",
      "\u001b[32m[I 2021-10-07 21:08:14,760]\u001b[0m Trial 8 finished with value: 0.4519139956644437 and parameters: {'feat_lasso': 0, 'feat_linreg': 0, 'feat_ridge': 0, 'resnet50_rocstar': 1, 'resnet50_bce': 0, 'densenet169_rocstar': 1, 'resnet101_rocstar': 1, 'efficientnetv2_l_rocstar': 0}. Best is trial 2 with value: 0.3596247295017474.\u001b[0m\n",
      "\u001b[32m[I 2021-10-07 21:08:14,793]\u001b[0m Trial 9 finished with value: 0.35695603240966 and parameters: {'feat_lasso': 1, 'feat_linreg': 1, 'feat_ridge': 1, 'resnet50_rocstar': 0, 'resnet50_bce': 0, 'densenet169_rocstar': 0, 'resnet101_rocstar': 0, 'efficientnetv2_l_rocstar': 1}. Best is trial 9 with value: 0.35695603240966.\u001b[0m\n",
      "\u001b[32m[I 2021-10-07 21:08:14,846]\u001b[0m Trial 10 finished with value: 0.35695603240966 and parameters: {'feat_lasso': 1, 'feat_linreg': 1, 'feat_ridge': 1, 'resnet50_rocstar': 0, 'resnet50_bce': 0, 'densenet169_rocstar': 0, 'resnet101_rocstar': 0, 'efficientnetv2_l_rocstar': 1}. Best is trial 9 with value: 0.35695603240966.\u001b[0m\n",
      "\u001b[32m[I 2021-10-07 21:08:14,905]\u001b[0m Trial 11 finished with value: 0.35695603240966 and parameters: {'feat_lasso': 1, 'feat_linreg': 1, 'feat_ridge': 1, 'resnet50_rocstar': 0, 'resnet50_bce': 0, 'densenet169_rocstar': 0, 'resnet101_rocstar': 0, 'efficientnetv2_l_rocstar': 1}. Best is trial 9 with value: 0.35695603240966.\u001b[0m\n",
      "\u001b[32m[I 2021-10-07 21:08:14,970]\u001b[0m Trial 12 finished with value: 0.35695603240966 and parameters: {'feat_lasso': 1, 'feat_linreg': 1, 'feat_ridge': 1, 'resnet50_rocstar': 0, 'resnet50_bce': 0, 'densenet169_rocstar': 0, 'resnet101_rocstar': 0, 'efficientnetv2_l_rocstar': 1}. Best is trial 9 with value: 0.35695603240966.\u001b[0m\n",
      "\u001b[32m[I 2021-10-07 21:08:15,024]\u001b[0m Trial 13 finished with value: 0.35695603240966 and parameters: {'feat_lasso': 1, 'feat_linreg': 1, 'feat_ridge': 1, 'resnet50_rocstar': 0, 'resnet50_bce': 0, 'densenet169_rocstar': 0, 'resnet101_rocstar': 0, 'efficientnetv2_l_rocstar': 1}. Best is trial 9 with value: 0.35695603240966.\u001b[0m\n",
      "\u001b[32m[I 2021-10-07 21:08:15,080]\u001b[0m Trial 14 finished with value: 0.35695603240966 and parameters: {'feat_lasso': 1, 'feat_linreg': 1, 'feat_ridge': 1, 'resnet50_rocstar': 0, 'resnet50_bce': 0, 'densenet169_rocstar': 0, 'resnet101_rocstar': 0, 'efficientnetv2_l_rocstar': 1}. Best is trial 9 with value: 0.35695603240966.\u001b[0m\n",
      "\u001b[32m[I 2021-10-07 21:08:15,146]\u001b[0m Trial 15 finished with value: 0.35695603240966 and parameters: {'feat_lasso': 1, 'feat_linreg': 1, 'feat_ridge': 1, 'resnet50_rocstar': 0, 'resnet50_bce': 0, 'densenet169_rocstar': 0, 'resnet101_rocstar': 0, 'efficientnetv2_l_rocstar': 1}. Best is trial 9 with value: 0.35695603240966.\u001b[0m\n",
      "\u001b[32m[I 2021-10-07 21:08:15,200]\u001b[0m Trial 16 finished with value: 0.35695603240966 and parameters: {'feat_lasso': 1, 'feat_linreg': 1, 'feat_ridge': 1, 'resnet50_rocstar': 0, 'resnet50_bce': 0, 'densenet169_rocstar': 0, 'resnet101_rocstar': 0, 'efficientnetv2_l_rocstar': 1}. Best is trial 9 with value: 0.35695603240966.\u001b[0m\n",
      "\u001b[32m[I 2021-10-07 21:08:15,263]\u001b[0m Trial 17 finished with value: 0.36321313272215927 and parameters: {'feat_lasso': 0, 'feat_linreg': 1, 'feat_ridge': 0, 'resnet50_rocstar': 0, 'resnet50_bce': 1, 'densenet169_rocstar': 0, 'resnet101_rocstar': 0, 'efficientnetv2_l_rocstar': 1}. Best is trial 9 with value: 0.35695603240966.\u001b[0m\n",
      "\u001b[32m[I 2021-10-07 21:08:15,331]\u001b[0m Trial 18 finished with value: 0.35695603240966 and parameters: {'feat_lasso': 1, 'feat_linreg': 1, 'feat_ridge': 1, 'resnet50_rocstar': 0, 'resnet50_bce': 0, 'densenet169_rocstar': 0, 'resnet101_rocstar': 0, 'efficientnetv2_l_rocstar': 1}. Best is trial 9 with value: 0.35695603240966.\u001b[0m\n",
      "\u001b[32m[I 2021-10-07 21:08:15,392]\u001b[0m Trial 19 finished with value: 0.35695603240966 and parameters: {'feat_lasso': 1, 'feat_linreg': 1, 'feat_ridge': 1, 'resnet50_rocstar': 0, 'resnet50_bce': 0, 'densenet169_rocstar': 0, 'resnet101_rocstar': 0, 'efficientnetv2_l_rocstar': 1}. Best is trial 9 with value: 0.35695603240966.\u001b[0m\n",
      "0.35695603240966 {'feat_lasso': 1, 'feat_linreg': 1, 'feat_ridge': 1, 'resnet50_rocstar': 0, 'resnet50_bce': 0, 'densenet169_rocstar': 0, 'resnet101_rocstar': 0, 'efficientnetv2_l_rocstar': 1}\n"
     ]
    }
   ],
   "source": [
    "def feat_selection_linreg_objective(trial):\n",
    "    kept_feats = []\n",
    "    for i in range(len(all_feat_names)):\n",
    "        var = trial.suggest_int(all_feat_names[i], 0,1)\n",
    "        if var == 1:\n",
    "            kept_feats.append(all_feat_names[i])\n",
    "    parameters = default_parameters.copy()\n",
    "    parameters['features'] = kept_feats\n",
    "    \n",
    "    return 1 - measure_cv_score(parameters, verbose=False)\n",
    "\n",
    "if 1:\n",
    "    study = optuna.create_study()\n",
    "    study.optimize(feat_selection_linreg_objective, n_trials=20, show_progress_bar=True)\n",
    "    print(study.best_value, study.best_params)"
   ]
  },
  {
   "cell_type": "code",
   "execution_count": 102,
   "id": "6d00081f",
   "metadata": {},
   "outputs": [
    {
     "data": {
      "text/plain": [
       "{'feat_lasso': 1,\n",
       " 'feat_linreg': 1,\n",
       " 'feat_ridge': 1,\n",
       " 'resnet50_rocstar': 0,\n",
       " 'resnet50_bce': 0,\n",
       " 'densenet169_rocstar': 0,\n",
       " 'resnet101_rocstar': 0,\n",
       " 'efficientnetv2_l_rocstar': 1}"
      ]
     },
     "execution_count": 102,
     "metadata": {},
     "output_type": "execute_result"
    }
   ],
   "source": [
    "study.best_params"
   ]
  },
  {
   "cell_type": "code",
   "execution_count": 103,
   "id": "e0ff485f",
   "metadata": {},
   "outputs": [
    {
     "name": "stdout",
     "output_type": "stream",
     "text": [
      "CV AUC = 0.6597934421493572 (std 0.016749474559017194), Acc. = 0.6117850953206239, aucs: [0.6425219941348974, 0.6577712609970675, 0.6770581113801454, 0.6754545454545454, 0.6357366771159875], accs: [0.6239316239316239, 0.6324786324786325, 0.6521739130434783, 0.6, 0.5486725663716814]\n"
     ]
    },
    {
     "data": {
      "text/plain": [
       "0.64304396759034"
      ]
     },
     "execution_count": 103,
     "metadata": {},
     "output_type": "execute_result"
    }
   ],
   "source": [
    "pruned_features = default_parameters.copy()\n",
    "pruned_features['features'] = ['feat_lasso', 'feat_linreg', 'feat_ridge', 'efficientnetv2_l_rocstar']\n",
    "measure_cv_score(pruned_features, verbose=True)"
   ]
  },
  {
   "cell_type": "code",
   "execution_count": null,
   "id": "97d9cd58",
   "metadata": {},
   "outputs": [],
   "source": []
  }
 ],
 "metadata": {
  "kernelspec": {
   "display_name": "Python 3",
   "language": "python",
   "name": "python3"
  },
  "language_info": {
   "codemirror_mode": {
    "name": "ipython",
    "version": 3
   },
   "file_extension": ".py",
   "mimetype": "text/x-python",
   "name": "python",
   "nbconvert_exporter": "python",
   "pygments_lexer": "ipython3",
   "version": "3.8.11"
  }
 },
 "nbformat": 4,
 "nbformat_minor": 5
}
