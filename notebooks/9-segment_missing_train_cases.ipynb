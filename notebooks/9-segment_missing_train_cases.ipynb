{
 "cells": [
  {
   "cell_type": "code",
   "execution_count": 1,
   "id": "88d4249a",
   "metadata": {},
   "outputs": [],
   "source": [
    "import glob\n",
    "import os\n",
    "import random\n",
    "import numpy as np\n",
    "import pandas as pd\n",
    "import torch\n",
    "import torch.nn as nn\n",
    "from torch.utils.data import Dataset\n",
    "import matplotlib.pyplot as plt\n",
    "import cv2\n",
    "import scipy.ndimage as ndimage\n",
    "import torch.optim as optim\n",
    "import time\n",
    "import shutil\n",
    "from sklearn.metrics import roc_curve, auc\n",
    "from argparse import ArgumentParser, Namespace\n",
    "\n",
    "import torch.nn.functional as F\n",
    "from torch.autograd import Variable\n",
    "from torch.utils.data import DataLoader\n",
    "import math\n",
    "from functools import partial\n",
    "from torch.utils.tensorboard import SummaryWriter\n",
    "\n",
    "import torchio as tio\n",
    "from tqdm.auto import tqdm\n",
    "\n",
    "import sys\n",
    "sys.path.append('../src')\n",
    "from seg_model_utils.torchio_transforms import *\n",
    "from seg_model_utils.brats2021_dataset import BraTS2021\n",
    "from seg_model_utils.augmentations3d import *\n",
    "from seg_model_utils.visualization import *\n",
    "from seg_model_utils.seg_model import UNet3D_v2"
   ]
  },
  {
   "cell_type": "code",
   "execution_count": 3,
   "id": "d7afbc94",
   "metadata": {},
   "outputs": [],
   "source": [
    "model = UNet3D_v2(out_channels=1).cuda()\n",
    "model.load_state_dict(torch.load(f'../output/seg_model_256--1/seg_model_256--1_last_epoch.pth')['model_state_dict'])\n",
    "_ = model.eval()"
   ]
  },
  {
   "cell_type": "code",
   "execution_count": 4,
   "id": "99e2ebc4",
   "metadata": {},
   "outputs": [],
   "source": [
    "fold = 0\n",
    "df = pd.read_csv('../input/train_labels_folds-v1.csv')\n",
    "\n",
    "missing_ids = [169,197,245,308,408,564,794,998]\n",
    "\n",
    "npy_dir = '../input/registered_cases/train/'\n",
    "sample_fns_test = [os.path.join(npy_dir, str(_id).zfill(5) + '.npy') for _id in missing_ids]"
   ]
  },
  {
   "cell_type": "code",
   "execution_count": 7,
   "id": "ca42c06b",
   "metadata": {},
   "outputs": [
    {
     "name": "stdout",
     "output_type": "stream",
     "text": [
      "../input/registered_cases/train/00169.npy exists: True\n",
      "../input/registered_cases/train/00197.npy exists: True\n",
      "../input/registered_cases/train/00245.npy exists: True\n",
      "../input/registered_cases/train/00308.npy exists: True\n",
      "../input/registered_cases/train/00408.npy exists: True\n",
      "../input/registered_cases/train/00564.npy exists: True\n",
      "../input/registered_cases/train/00794.npy exists: True\n",
      "../input/registered_cases/train/00998.npy exists: True\n"
     ]
    }
   ],
   "source": [
    "for fn in sample_fns_test:\n",
    "    print(f'{fn} exists: {os.path.exists(fn)}')"
   ]
  },
  {
   "cell_type": "code",
   "execution_count": 10,
   "id": "82b6828f",
   "metadata": {},
   "outputs": [],
   "source": [
    "test_ds = BraTS2021(\n",
    "    mode='test', \n",
    "    npy_fns_list=sample_fns_test, \n",
    "    label_list=None,\n",
    "    augmentations=None,\n",
    "    volume_normalize=True,\n",
    "    max_out_size=(256,256,96)\n",
    ")"
   ]
  },
  {
   "cell_type": "code",
   "execution_count": 19,
   "id": "110abde3",
   "metadata": {},
   "outputs": [],
   "source": [
    "def inference_sample_tta(model, image, batch_size=1):\n",
    "    \"\"\"Inference 3d image with tta and average predictions. Image shape: 3xWxHxD\"\"\"\n",
    "    model.eval()\n",
    "    \n",
    "    def _flip(im, index=0):\n",
    "        if index == 0:\n",
    "            return im\n",
    "        elif index == 1:\n",
    "            return torch.flip(im, [1])\n",
    "        elif index == 2:\n",
    "            return torch.flip(im, [2])\n",
    "        elif index == 3:\n",
    "            return torch.flip(im, [3])\n",
    "        elif index == 4:\n",
    "            return torch.flip(im, [1,2])\n",
    "        elif index == 5:\n",
    "            return torch.flip(im, [1,3])\n",
    "        elif index == 6:\n",
    "            return torch.flip(im, [1,2,3])\n",
    "        elif index == 7:\n",
    "            return torch.flip(im, [2,3])\n",
    "        \n",
    "    def _predict(batch):\n",
    "        batch.requires_grad=False\n",
    "        seg_batch_flipped, clf_batch = model(batch.cuda())\n",
    "        seg_batch_flipped, clf_batch = seg_batch_flipped.detach().cpu(), clf_batch.detach().cpu()\n",
    "        # logits to preds\n",
    "        clf_batch = torch.sigmoid(clf_batch)\n",
    "        return seg_batch_flipped, clf_batch\n",
    "    \n",
    "    batch = torch.stack([_flip(image.clone(), index) for index in range(4)], dim=0)\n",
    "    seg_batch_flipped_list, clf_batch_list = [],[]\n",
    "    \n",
    "    with torch.no_grad():    \n",
    "        for start in range(0, 4, batch_size):\n",
    "            seg_batch_flipped, clf_batch = _predict(batch[start:start + batch_size])\n",
    "            \n",
    "            seg_batch_flipped_list = seg_batch_flipped_list + [seg for seg in seg_batch_flipped]\n",
    "            clf_batch_list = clf_batch_list + [clf for clf in clf_batch]\n",
    "    \n",
    "    # flip masks back\n",
    "    seg_batch = torch.stack([_flip(seg, index) for index, seg in enumerate(seg_batch_flipped_list)], dim=0)\n",
    "    \n",
    "    # average results\n",
    "    seg = torch.mean(seg_batch, dim=0)\n",
    "    clf = torch.mean(torch.stack(clf_batch_list, dim=0), dim=0)\n",
    "    return seg, clf\n",
    "\n",
    "def create_segs(out_dir, val_ds, model):\n",
    "    # create dirs\n",
    "    if not os.path.exists(out_dir): os.mkdir(out_dir)\n",
    "    pred_dir = os.path.join(out_dir, 'oof_preds')\n",
    "    if not os.path.exists(pred_dir): os.mkdir(pred_dir)\n",
    "    vis_dir = os.path.join(out_dir, 'vis')\n",
    "    if not os.path.exists(vis_dir): os.mkdir(vis_dir)\n",
    "    \n",
    "    for val_index in tqdm(range(len(val_ds))):\n",
    "        sample = val_ds.__getitem__(val_index)\n",
    "        bratsid = f'{int(sample[\"BraTSID\"]):05d}'\n",
    "        \n",
    "        seg, clf = inference_sample_tta(model, sample['image'])\n",
    "        \n",
    "        # save oof preds\n",
    "        seg_fn = os.path.join(pred_dir, f'{bratsid}_seg.npy')\n",
    "        np.save(seg_fn, seg.cpu().numpy())\n",
    "        "
   ]
  },
  {
   "cell_type": "code",
   "execution_count": 11,
   "id": "6e8b907a",
   "metadata": {},
   "outputs": [],
   "source": [
    "out_dir = os.path.join(f'../output/', 'seg_model_256_missing_cases')\n",
    "if not os.path.exists(out_dir): os.mkdir(out_dir)"
   ]
  },
  {
   "cell_type": "code",
   "execution_count": 20,
   "id": "2a8c0f22",
   "metadata": {},
   "outputs": [
    {
     "data": {
      "application/vnd.jupyter.widget-view+json": {
       "model_id": "6c6d55eb37584f15a28113a17a4650bc",
       "version_major": 2,
       "version_minor": 0
      },
      "text/plain": [
       "  0%|          | 0/8 [00:00<?, ?it/s]"
      ]
     },
     "metadata": {},
     "output_type": "display_data"
    }
   ],
   "source": [
    "create_segs(out_dir, test_ds, model)"
   ]
  },
  {
   "cell_type": "code",
   "execution_count": 23,
   "id": "8e5ae146",
   "metadata": {},
   "outputs": [],
   "source": [
    "seg_dir = '../output/seg_model_256_missing_cases/segmentations/'\n",
    "binary_dir = '../output/seg_model_256_missing_cases/binary_segmentations/'\n",
    "if not os.path.exists(binary_dir): os.mkdir(binary_dir)\n",
    "for fn in os.listdir(seg_dir):\n",
    "    seg = np.load(os.path.join(seg_dir, fn))\n",
    "    seg = (seg > 0.5).astype(np.bool)\n",
    "    np.save(os.path.join(binary_dir, fn), seg)"
   ]
  },
  {
   "cell_type": "code",
   "execution_count": null,
   "id": "cc5d456e",
   "metadata": {},
   "outputs": [],
   "source": []
  }
 ],
 "metadata": {
  "kernelspec": {
   "display_name": "Python 3",
   "language": "python",
   "name": "python3"
  },
  "language_info": {
   "codemirror_mode": {
    "name": "ipython",
    "version": 3
   },
   "file_extension": ".py",
   "mimetype": "text/x-python",
   "name": "python",
   "nbconvert_exporter": "python",
   "pygments_lexer": "ipython3",
   "version": "3.8.11"
  }
 },
 "nbformat": 4,
 "nbformat_minor": 5
}
